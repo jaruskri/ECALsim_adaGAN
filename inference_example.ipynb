{
 "cells": [
  {
   "cell_type": "markdown",
   "id": "d64a5543-fa7c-4a0c-b442-6f370af1af89",
   "metadata": {},
   "source": [
    "### Image generation from adaGAN"
   ]
  },
  {
   "cell_type": "code",
   "execution_count": 1,
   "id": "b71454f3-f011-403d-9a4b-c8577a855308",
   "metadata": {},
   "outputs": [],
   "source": [
    "%load_ext autoreload\n",
    "%autoreload 2"
   ]
  },
  {
   "cell_type": "code",
   "execution_count": 2,
   "id": "c878cc22-2d82-4b1c-8b09-b9e63cea4fd9",
   "metadata": {},
   "outputs": [],
   "source": [
    "# importing libraries\n",
    "import os\n",
    "import sys\n",
    "import numpy as np\n",
    "# import h5py\n",
    "import pickle"
   ]
  },
  {
   "cell_type": "code",
   "execution_count": 3,
   "id": "d9be656e-68ad-4fb0-84e4-53c0755c0b0b",
   "metadata": {},
   "outputs": [
    {
     "name": "stdout",
     "output_type": "stream",
     "text": [
      "Num GPUs Available:  2\n",
      "2 Physical GPUs, 1 Logical GPU\n"
     ]
    }
   ],
   "source": [
    "# importing adagan files\n",
    "from adagan_v6 import *\n",
    "# New functions were added to adagan_v6 and gan_v6 to enable loading the generators from .pb files into the adagan structure.\n",
    "# Updated code is in the branch 'adaGAN_dev':\n",
    "#    In adagan_v6.py: load_generators(). In gan_v6.py: load_pb_epoch() + change in generate() line 378"
   ]
  },
  {
   "cell_type": "code",
   "execution_count": 43,
   "id": "f657bed1-80ee-4f5f-9128-046b0b19d9bd",
   "metadata": {},
   "outputs": [],
   "source": [
    "# Functions to plot images\n",
    "from matplotlib.colors import LogNorm\n",
    "# from mpl_toolkits.mplot3d import Axes3D\n",
    "\n",
    "# Plot shower shapes\n",
    "def shower_shape_1d(image, imscale=1, imdpi=100, tag='', save_path=None, save=False, closing=False):\n",
    "    fig, (ax1, ax2, ax3) = plt.subplots(nrows=1, ncols=3, figsize=imscale*(12,2.5), dpi=imdpi)\n",
    "    xticks = np.arange(0,25)\n",
    "    ax1.plot(xticks, np.sum(image, axis=(1,2)))\n",
    "    ax1.set(xlabel='x-axis shape')\n",
    "    ax2.plot(xticks, np.sum(image, axis=(0,2)))\n",
    "    ax2.set(xlabel='y-axis shape')\n",
    "    # ax2.set(yticks=ind + width, yticklabels=ylabels, ylim=[2*width - 1, len(ylabels)])\n",
    "    ax3.plot(xticks, np.sum(image, axis=(0,1)))\n",
    "    ax3.set(xlabel='z-axis shape')\n",
    "    if save:\n",
    "        if save_path == None:\n",
    "            print('save_path not passed.')\n",
    "        else:\n",
    "            plt.savefig(os.path.join(img_dir, 'shape_1d_' + tag + '.png'), dpi=600, bbox_inches = \"tight\")\n",
    "    plt.show()\n",
    "    if closing:\n",
    "        plt.close()\n",
    "    return\n",
    "\n",
    "# def shower_2d(im):\n",
    "# Plot 2D images\n",
    "def shower_shape_2d(image, imscale=1, imdpi=100, tag='', save_path=None, save=False, closing=False):\n",
    "    \"\"\" Plot 2D version of the image\n",
    "        tag .... to name the image\n",
    "    \"\"\"\n",
    "    xy = np.sum(image, axis=2)\n",
    "    xz = np.sum(image, axis=1)\n",
    "    yz = np.sum(image, axis=0)\n",
    "    \n",
    "    minim = min(np.min(xy), np.min(xz), np.min(yz)) # to ensure shared colorbar for all three views\n",
    "    maxim = max(np.max(xy), np.max(xz), np.max(yz))\n",
    "    if minim == 0:\n",
    "        minim=0.0000001 # smallest value that does not raise a warning in lognorm transformation\n",
    "    \n",
    "    fig, (ax1, ax2, ax3) = plt.subplots(nrows=1, ncols=3, figsize=imscale*(11,3), dpi=imdpi, gridspec_kw={'width_ratios': [1, 1, 1.3]}) # gridspec_kw={'width_ratios': [2, 2, 1]}\n",
    "    ax1.imshow(xy, norm=LogNorm(vmin=minim, vmax=maxim))\n",
    "    ax1.set(xlabel='y', ylabel='x')\n",
    "    ax2.imshow(xz, norm=LogNorm(vmin=minim, vmax=maxim))\n",
    "    ax2.set(xlabel='z', ylabel='x')\n",
    "    cs = ax3.imshow(yz, norm=LogNorm(vmin=minim, vmax=maxim))\n",
    "    ax3.set(xlabel='z', ylabel='y')\n",
    "    fig.colorbar(cs)\n",
    "    if save:\n",
    "        if save_path == None:\n",
    "            print('save_path not passed.')\n",
    "        else:\n",
    "            plt.savefig(os.path.join(img_dir, 'shape_2d_' + tag + '.png'), dpi=600, bbox_inches = \"tight\")\n",
    "    plt.show()\n",
    "    if closing:\n",
    "        plt.close()\n",
    "    return\n"
   ]
  },
  {
   "cell_type": "code",
   "execution_count": 4,
   "id": "97b63178-fb04-41ad-afdd-10af24463454",
   "metadata": {},
   "outputs": [
    {
     "name": "stdout",
     "output_type": "stream",
     "text": [
      "dict_keys(['params', 'beta_vec', 'gan_bestepoch', 'gan_bestval', 't_gan', 'mixdisc_bestepoch', 'mixdisc_best_trainloss', 'mixdisc_best_testloss', 'mixdisc_total_time', 'mixdisc_train_time', 'mixdisc_weights_time', 'mixdisc_preds_time'])\n"
     ]
    }
   ],
   "source": [
    "# setting path and loading model parameters\n",
    "results_dir = '/eos/home-k/kjarusko/Projects/ensemGAN/3Dgan/adaGAN_gpu_v6/run_g10_jan2/'\n",
    "num_gens = 10\n",
    "num_epochs = 30\n",
    "\n",
    "# loading params variable\n",
    "path = results_dir + 'Info/'\n",
    "filename = 'adagan_info.pkl'\n",
    "file = open(path+filename, 'rb')\n",
    "file_data = pickle.load(file)\n",
    "file.close()\n",
    "\n",
    "print(file_data.keys())\n",
    "\n",
    "params = file_data['params'][0]\n",
    "\n",
    "# Correction of a bug in the code - params variable was saved only at the beginning -> 'steps_made' was set to 0 and not updated during training\n",
    "params['steps_made'] = 10\n",
    "\n",
    "# overwriting the path to data, if needed\n",
    "# params['data_dir'] = '/eos/home-k/kjarusko/Projects/DataEnerg/unzipped/'"
   ]
  },
  {
   "cell_type": "code",
   "execution_count": 5,
   "id": "4af513c3-dbe7-45bf-875e-52062da85369",
   "metadata": {},
   "outputs": [],
   "source": [
    "model_dir = 'run_g10_jan2/IntelShare'"
   ]
  },
  {
   "cell_type": "code",
   "execution_count": null,
   "id": "f35de41c-d8ee-4ed4-a80e-35de20a08e3e",
   "metadata": {},
   "outputs": [],
   "source": []
  },
  {
   "cell_type": "markdown",
   "id": "e2219fec-ad8e-41f5-a8a7-7adabdcc6b6d",
   "metadata": {},
   "source": [
    "#### Generation from a single GAN"
   ]
  },
  {
   "cell_type": "markdown",
   "id": "04c501c4-d19d-4293-bf8b-f42ca1c2183d",
   "metadata": {},
   "source": [
    "##### Loading only the keras model from a pb file"
   ]
  },
  {
   "cell_type": "code",
   "execution_count": 6,
   "id": "75d3e53a-5c32-45b5-b3bb-ca1821624d1f",
   "metadata": {},
   "outputs": [],
   "source": [
    "# Necessary to prepare the generator input manually\n",
    "# Ep = 2-500 GeV\n",
    "nb_samples = 10\n",
    "noise = np.random.normal(0, 1, (nb_samples, 200))\n",
    "gen_aux = np.random.uniform(0.02, 5,(nb_samples,1 )) # E_p/100 vector\n",
    "generator_input =  np.multiply(gen_aux, noise)"
   ]
  },
  {
   "cell_type": "code",
   "execution_count": 7,
   "id": "0674ed8a-4f67-4484-93e2-92e034abc059",
   "metadata": {},
   "outputs": [
    {
     "name": "stdout",
     "output_type": "stream",
     "text": [
      "WARNING:tensorflow:No training configuration found in save file, so the model was *not* compiled. Compile it manually.\n"
     ]
    }
   ],
   "source": [
    "step = 0 # which generator of the ensemble to load (from 0 to params['steps_made']-1 included)\n",
    "epoch = 16\n",
    "loaded_model = tf.keras.models.load_model(os.path.join(model_dir, 'Generators', 'gen_{}'.format(step), 'gen_{}_ep_{}'.format(step, epoch)))"
   ]
  },
  {
   "cell_type": "code",
   "execution_count": 8,
   "id": "1b1be456-d2f1-4ac7-a8fd-a7238c42e2c9",
   "metadata": {},
   "outputs": [
    {
     "name": "stdout",
     "output_type": "stream",
     "text": [
      "(10, 25, 25, 25, 1)\n",
      "(10, 25, 25, 25)\n"
     ]
    }
   ],
   "source": [
    "# Generate images\n",
    "output = loaded_model(generator_input)\n",
    "output = np.array(output) # from tensor to numpy.array\n",
    "print(output.shape)\n",
    "output = np.squeeze(output) # remove additional dimension\n",
    "print(output.shape)"
   ]
  },
  {
   "cell_type": "code",
   "execution_count": 9,
   "id": "bcaf0805-5b78-474e-8fd7-c5bf503d9e9e",
   "metadata": {},
   "outputs": [],
   "source": [
    "# Plot one example of the image"
   ]
  },
  {
   "cell_type": "code",
   "execution_count": 10,
   "id": "ba633a5d-a70e-4619-8e1f-5177d4ede59c",
   "metadata": {},
   "outputs": [],
   "source": [
    "img = output[0]"
   ]
  },
  {
   "cell_type": "code",
   "execution_count": 45,
   "id": "8d7f5d76-787e-4d93-9817-ccc2f85ec52d",
   "metadata": {},
   "outputs": [
    {
     "data": {
      "image/png": "[encoded data removed]",
      "text/plain": [
       "<Figure size 720x150 with 3 Axes>"
      ]
     },
     "metadata": {
      "needs_background": "light"
     },
     "output_type": "display_data"
    },
    {
     "data": {
      "image/png": "[encoded data removed]",
      "text/plain": [
       "<Figure size 660x180 with 4 Axes>"
      ]
     },
     "metadata": {
      "needs_background": "light"
     },
     "output_type": "display_data"
    }
   ],
   "source": [
    "# Plot one sample\n",
    "shower_shape_1d(img, imdpi=60)\n",
    "shower_shape_2d(img, imdpi=60)"
   ]
  },
  {
   "cell_type": "code",
   "execution_count": null,
   "id": "04d018af-d853-4fb2-901b-61409db75f13",
   "metadata": {},
   "outputs": [],
   "source": []
  },
  {
   "cell_type": "code",
   "execution_count": 28,
   "id": "79b1558e-2c2d-443b-9a0e-37b8554138f1",
   "metadata": {},
   "outputs": [],
   "source": []
  },
  {
   "cell_type": "markdown",
   "id": "ac9f43d5-e4a8-4de1-87ce-f01c76c4ea77",
   "metadata": {},
   "source": [
    "##### Loading the model throught the generator object"
   ]
  },
  {
   "cell_type": "code",
   "execution_count": 50,
   "id": "6847dd62-605d-4ce5-9be7-064afdf1d532",
   "metadata": {},
   "outputs": [
    {
     "name": "stdout",
     "output_type": "stream",
     "text": [
      "WARNING:tensorflow:No training configuration found in save file, so the model was *not* compiled. Compile it manually.\n"
     ]
    },
    {
     "name": "stderr",
     "output_type": "stream",
     "text": [
      "WARNING:tensorflow:No training configuration found in save file, so the model was *not* compiled. Compile it manually.\n"
     ]
    }
   ],
   "source": [
    "step = 0\n",
    "epoch = 16\n",
    "model_path = os.path.join(model_dir, 'Generators', 'gen_{}'.format(step), 'gen_{}_ep_{}'.format(step, epoch))\n",
    "\n",
    "gen = Generator(params, arch_overwrite=\"FloG1\")\n",
    "gen.load_pb_epoch(params, path=model_path)\n",
    "# gen.load_w_epoch(params, step, ada._gens_bestepoch[step]) # if loading weights only\n"
   ]
  },
  {
   "cell_type": "code",
   "execution_count": 61,
   "id": "4452fba1-baff-4ee9-8771-85ca11880f84",
   "metadata": {},
   "outputs": [
    {
     "name": "stdout",
     "output_type": "stream",
     "text": [
      "output type: <class 'tuple'>\n",
      "(5, 25, 25, 25)\n",
      "(10, 25, 25, 25)\n"
     ]
    }
   ],
   "source": [
    "# No need to provide generator input, only the number of images to generate\n",
    "#   ----> then the images, Ep/100 and ECAL are returned in a tuple (in this order)\n",
    "output = gen.generate(num=5)\n",
    "print('output type: {}'.format(type(output)))\n",
    "images = np.squeeze(np.array(output[0]))\n",
    "print(images.shape)\n",
    "\n",
    "# Generator input can still be provided manually if neede (to generate samples for specific Ep values)\n",
    "#  ----> then only the images are returned\n",
    "output = gen.generate(generator_input = generator_input)\n",
    "output = np.squeeze(np.array(output))\n",
    "print(output.shape)"
   ]
  },
  {
   "cell_type": "code",
   "execution_count": 63,
   "id": "e066b688-8a00-4de5-b89f-de3044107ae9",
   "metadata": {},
   "outputs": [
    {
     "data": {
      "image/png": "[encoded data removed]",
      "text/plain": [
       "<Figure size 720x150 with 3 Axes>"
      ]
     },
     "metadata": {
      "needs_background": "light"
     },
     "output_type": "display_data"
    },
    {
     "data": {
      "image/png": "[encoded data removed]",
      "text/plain": [
       "<Figure size 660x180 with 4 Axes>"
      ]
     },
     "metadata": {
      "needs_background": "light"
     },
     "output_type": "display_data"
    }
   ],
   "source": [
    "img = images[0]\n",
    "# Plot one sample\n",
    "shower_shape_1d(img, imdpi=60)\n",
    "shower_shape_2d(img, imdpi=60)"
   ]
  },
  {
   "cell_type": "markdown",
   "id": "8d67cb56-9705-42f9-b9dd-5bdb4229a5cc",
   "metadata": {},
   "source": [
    "#### Generating images from adaGAN"
   ]
  },
  {
   "cell_type": "code",
   "execution_count": 70,
   "id": "4b262d39-827b-46ae-8c3e-d672529f3896",
   "metadata": {},
   "outputs": [
    {
     "name": "stdout",
     "output_type": "stream",
     "text": [
      "WARNING:tensorflow:No training configuration found in save file, so the model was *not* compiled. Compile it manually.\n"
     ]
    },
    {
     "name": "stderr",
     "output_type": "stream",
     "text": [
      "WARNING:tensorflow:No training configuration found in save file, so the model was *not* compiled. Compile it manually.\n"
     ]
    },
    {
     "name": "stdout",
     "output_type": "stream",
     "text": [
      "WARNING:tensorflow:No training configuration found in save file, so the model was *not* compiled. Compile it manually.\n"
     ]
    },
    {
     "name": "stderr",
     "output_type": "stream",
     "text": [
      "WARNING:tensorflow:No training configuration found in save file, so the model was *not* compiled. Compile it manually.\n"
     ]
    },
    {
     "name": "stdout",
     "output_type": "stream",
     "text": [
      "WARNING:tensorflow:No training configuration found in save file, so the model was *not* compiled. Compile it manually.\n"
     ]
    },
    {
     "name": "stderr",
     "output_type": "stream",
     "text": [
      "WARNING:tensorflow:No training configuration found in save file, so the model was *not* compiled. Compile it manually.\n"
     ]
    },
    {
     "name": "stdout",
     "output_type": "stream",
     "text": [
      "WARNING:tensorflow:No training configuration found in save file, so the model was *not* compiled. Compile it manually.\n"
     ]
    },
    {
     "name": "stderr",
     "output_type": "stream",
     "text": [
      "WARNING:tensorflow:No training configuration found in save file, so the model was *not* compiled. Compile it manually.\n"
     ]
    },
    {
     "name": "stdout",
     "output_type": "stream",
     "text": [
      "WARNING:tensorflow:No training configuration found in save file, so the model was *not* compiled. Compile it manually.\n"
     ]
    },
    {
     "name": "stderr",
     "output_type": "stream",
     "text": [
      "WARNING:tensorflow:No training configuration found in save file, so the model was *not* compiled. Compile it manually.\n"
     ]
    },
    {
     "name": "stdout",
     "output_type": "stream",
     "text": [
      "WARNING:tensorflow:No training configuration found in save file, so the model was *not* compiled. Compile it manually.\n"
     ]
    },
    {
     "name": "stderr",
     "output_type": "stream",
     "text": [
      "WARNING:tensorflow:No training configuration found in save file, so the model was *not* compiled. Compile it manually.\n"
     ]
    },
    {
     "name": "stdout",
     "output_type": "stream",
     "text": [
      "WARNING:tensorflow:No training configuration found in save file, so the model was *not* compiled. Compile it manually.\n"
     ]
    },
    {
     "name": "stderr",
     "output_type": "stream",
     "text": [
      "WARNING:tensorflow:No training configuration found in save file, so the model was *not* compiled. Compile it manually.\n"
     ]
    },
    {
     "name": "stdout",
     "output_type": "stream",
     "text": [
      "WARNING:tensorflow:No training configuration found in save file, so the model was *not* compiled. Compile it manually.\n"
     ]
    },
    {
     "name": "stderr",
     "output_type": "stream",
     "text": [
      "WARNING:tensorflow:No training configuration found in save file, so the model was *not* compiled. Compile it manually.\n"
     ]
    },
    {
     "name": "stdout",
     "output_type": "stream",
     "text": [
      "WARNING:tensorflow:No training configuration found in save file, so the model was *not* compiled. Compile it manually.\n"
     ]
    },
    {
     "name": "stderr",
     "output_type": "stream",
     "text": [
      "WARNING:tensorflow:No training configuration found in save file, so the model was *not* compiled. Compile it manually.\n"
     ]
    },
    {
     "name": "stdout",
     "output_type": "stream",
     "text": [
      "WARNING:tensorflow:No training configuration found in save file, so the model was *not* compiled. Compile it manually.\n"
     ]
    },
    {
     "name": "stderr",
     "output_type": "stream",
     "text": [
      "WARNING:tensorflow:No training configuration found in save file, so the model was *not* compiled. Compile it manually.\n"
     ]
    }
   ],
   "source": [
    "# Initialize the adaGAN\n",
    "ada = Adagan(params)\n",
    "\n",
    "# Load generators from pb files with specific location\n",
    "step_list = [i for i in range(params['steps_made'])]\n",
    "ep_list = [17, 32, 26, 31, 30, 17, 26, 25, 21, 23]\n",
    "\n",
    "path_list = [os.path.join(model_dir, 'Generators', 'gen_{}'.format(s), 'gen_{}_ep_{}'.format(s, e)) for s, e in zip(step_list,ep_list)]\n",
    "ada.load_generators(params, weights_only=False, path = path_list)\n",
    "\n",
    "print(len(ada.gens_list)) # ada.gens_list is where the generators are loaded\n"
   ]
  },
  {
   "cell_type": "code",
   "execution_count": 73,
   "id": "79d75819-66b7-4d76-89c7-eee35032aae3",
   "metadata": {},
   "outputs": [
    {
     "name": "stdout",
     "output_type": "stream",
     "text": [
      "<class 'numpy.ndarray'>\n",
      "(10, 25, 25, 25)\n"
     ]
    }
   ],
   "source": [
    "# Run generation automatically\n",
    "fake_img, ep, ecal = ada.generate_samples(params, num_samples = 10)\n",
    "# Images already converted to numpy arrays in the correct shape\n",
    "print(type(fake_img))\n",
    "print(fake_img.shape)\n"
   ]
  },
  {
   "cell_type": "code",
   "execution_count": 74,
   "id": "39c637e3-ed58-4bb9-bb32-7781505d91ea",
   "metadata": {},
   "outputs": [],
   "source": [
    "# Image generation for a specific Ep\n",
    "# !!! Input Ep in GeV (i.e. 2-500 GeV, not Ep/100 as before) !!!\n",
    "fake_img, ep, ecal = ada.generate_samples(params, num_samples = 10, input_Ep = 100*gen_aux)\n",
    "\n",
    "img = fake_img[0]\n",
    "print(ep[0])\n",
    "# Plot one sample\n",
    "shower_shape_1d(img, imdpi=60)\n",
    "shower_shape_2d(img, imdpi=60)"
   ]
  }
 ],
 "metadata": {
  "kernelspec": {
   "display_name": "Python 3",
   "language": "python",
   "name": "python3"
  },
  "language_info": {
   "codemirror_mode": {
    "name": "ipython",
    "version": 3
   },
   "file_extension": ".py",
   "mimetype": "text/x-python",
   "name": "python",
   "nbconvert_exporter": "python",
   "pygments_lexer": "ipython3",
   "version": "3.6.8"
  }
 },
 "nbformat": 4,
 "nbformat_minor": 5
}
